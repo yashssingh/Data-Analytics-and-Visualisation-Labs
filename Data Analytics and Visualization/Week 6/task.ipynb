{
 "cells": [
  {
   "cell_type": "code",
   "execution_count": 8,
   "metadata": {},
   "outputs": [],
   "source": [
    "# YASH KUMAR SINGH\n",
    "# 202151181\n",
    "\n",
    "import pandas as pd\n",
    "import json\n",
    "import csv"
   ]
  },
  {
   "cell_type": "code",
   "execution_count": 10,
   "metadata": {},
   "outputs": [],
   "source": [
    "df = pd.read_csv('primary_completion_rate_female.csv', skiprows=4, usecols=range(67))"
   ]
  },
  {
   "cell_type": "code",
   "execution_count": 11,
   "metadata": {},
   "outputs": [
    {
     "name": "stdout",
     "output_type": "stream",
     "text": [
      "0      96.203056\n",
      "1      52.899081\n",
      "2      28.085734\n",
      "3      54.108691\n",
      "4      34.111267\n",
      "         ...    \n",
      "261          NaN\n",
      "262    48.823942\n",
      "263    88.622194\n",
      "264    67.949980\n",
      "265    91.649270\n",
      "Name: average_rate, Length: 266, dtype: float64\n"
     ]
    },
    {
     "name": "stderr",
     "output_type": "stream",
     "text": [
      "/var/folders/74/3q7zx5894sn3t1vdw8tx_mwc0000gn/T/ipykernel_22536/1047759151.py:1: FutureWarning: Dropping of nuisance columns in DataFrame reductions (with 'numeric_only=None') is deprecated; in a future version this will raise TypeError.  Select only valid columns before calling the reduction.\n",
      "  df['average_rate'] = df.mean(axis=1)\n"
     ]
    }
   ],
   "source": [
    "df['average_rate'] = df.mean(axis=1)\n",
    "print(df['average_rate'])\n",
    "df.to_csv('primary_completion_rate_female_with_average.csv', index=False)\n"
   ]
  },
  {
   "cell_type": "code",
   "execution_count": 12,
   "metadata": {},
   "outputs": [
    {
     "name": "stdout",
     "output_type": "stream",
     "text": [
      "0          56330.0\n",
      "1      354855082.0\n",
      "2       19844584.0\n",
      "3      237813580.0\n",
      "4       17452283.0\n",
      "          ...     \n",
      "261       895801.0\n",
      "262     16313210.0\n",
      "263     30497646.0\n",
      "264      9864121.0\n",
      "265      8449834.0\n",
      "Name: Latest Population, Length: 266, dtype: float64\n"
     ]
    }
   ],
   "source": [
    "population_df = pd.read_csv(\"population_of_female.csv\", skiprows=4, usecols=range(67))\n",
    "population_df['Latest Population'] = population_df.loc[:, '1960':'2021'].iloc[:, -1]\n",
    "print(population_df['Latest Population'])\n",
    "df.to_csv('population_of_female_with_latest_population', index=False)\n"
   ]
  },
  {
   "cell_type": "code",
   "execution_count": 13,
   "metadata": {},
   "outputs": [
    {
     "name": "stdout",
     "output_type": "stream",
     "text": [
      "\n",
      "Weighted average of 'average_rate': 77.01066757323034\n"
     ]
    }
   ],
   "source": [
    "weighted_average = ((df['average_rate'] * population_df['Latest Population']) / population_df['Latest Population'].sum()).sum()\n",
    "print(f\"\\nWeighted average of 'average_rate': {weighted_average}\")"
   ]
  },
  {
   "cell_type": "code",
   "execution_count": 14,
   "metadata": {},
   "outputs": [
    {
     "name": "stdout",
     "output_type": "stream",
     "text": [
      "Median of 'average_rate': 90.96608239251218\n"
     ]
    }
   ],
   "source": [
    "median_completion_rate = df['average_rate'].median()\n",
    "print(f\"Median of 'average_rate': {median_completion_rate}\")"
   ]
  },
  {
   "cell_type": "code",
   "execution_count": 15,
   "metadata": {},
   "outputs": [
    {
     "name": "stdout",
     "output_type": "stream",
     "text": [
      "Interquartile Range (IQR) of 'average_rate': 29.470233932195967\n"
     ]
    }
   ],
   "source": [
    "iqr = df['average_rate'].quantile(0.75) - df['average_rate'].quantile(0.25)\n",
    "print(f\"Interquartile Range (IQR) of 'average_rate': {iqr}\")\n"
   ]
  },
  {
   "cell_type": "code",
   "execution_count": 16,
   "metadata": {},
   "outputs": [
    {
     "name": "stdout",
     "output_type": "stream",
     "text": [
      "Variance of 'average_rate': 512.9310266943032\n"
     ]
    }
   ],
   "source": [
    "variance = df['average_rate'].var()\n",
    "print(f\"Variance of 'average_rate': {variance}\")"
   ]
  }
 ],
 "metadata": {
  "kernelspec": {
   "display_name": "Python 3",
   "language": "python",
   "name": "python3"
  },
  "language_info": {
   "codemirror_mode": {
    "name": "ipython",
    "version": 3
   },
   "file_extension": ".py",
   "mimetype": "text/x-python",
   "name": "python",
   "nbconvert_exporter": "python",
   "pygments_lexer": "ipython3",
   "version": "3.11.2"
  }
 },
 "nbformat": 4,
 "nbformat_minor": 2
}
