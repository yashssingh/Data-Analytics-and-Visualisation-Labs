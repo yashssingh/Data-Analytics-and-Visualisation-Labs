{
 "cells": [
  {
   "cell_type": "code",
   "execution_count": 1,
   "metadata": {},
   "outputs": [],
   "source": [
    "import pandas as pd\n",
    "import numpy as np\n",
    "\n",
    "# Load the dataset\n",
    "cookie_cats_data = pd.read_csv('cookie_cats.csv')"
   ]
  },
  {
   "cell_type": "code",
   "execution_count": 2,
   "metadata": {},
   "outputs": [
    {
     "name": "stdout",
     "output_type": "stream",
     "text": [
      "Average sum gamerounds by version:\n",
      "version\n",
      "gate_30    52.456264\n",
      "gate_40    51.298776\n",
      "Name: sum_gamerounds, dtype: float64\n"
     ]
    }
   ],
   "source": [
    "# Task 1: Compute average \"sum gamerounds\" for each version\n",
    "average_gamerounds_by_version = cookie_cats_data.groupby('version')['sum_gamerounds'].mean()\n",
    "print(\"Average sum gamerounds by version:\")\n",
    "print(average_gamerounds_by_version)"
   ]
  },
  {
   "cell_type": "code",
   "execution_count": 4,
   "metadata": {},
   "outputs": [
    {
     "name": "stdout",
     "output_type": "stream",
     "text": [
      "\n",
      "Permutation Test:\n",
      "The p-value is: 0.618\n",
      "There is no significant difference in average sum gamerounds between versions.\n"
     ]
    }
   ],
   "source": [
    "# Task 2: Perform permutation test to check for statistically significant difference\n",
    "\n",
    "# Define a function to calculate the difference in means\n",
    "def difference_in_means(data, column):\n",
    "    group_means = data.groupby('version')[column].mean()\n",
    "    return group_means.diff().iloc[-1]\n",
    "\n",
    "# Define a function for permutation resampling\n",
    "def permutation_test(data, column, num_permutations):\n",
    "    observed_difference = difference_in_means(data, column)\n",
    "    concatenated_data = data[column].values\n",
    "    permuted_differences = np.zeros(num_permutations)\n",
    "    \n",
    "    for i in range(num_permutations):\n",
    "        np.random.shuffle(concatenated_data)\n",
    "        permuted_data = pd.DataFrame({'version': data['version'], column: concatenated_data})\n",
    "        permuted_difference = difference_in_means(permuted_data, column)\n",
    "        permuted_differences[i] = permuted_difference\n",
    "        \n",
    "    p_value = np.sum(permuted_differences >= observed_difference) / num_permutations\n",
    "    return p_value\n",
    "\n",
    "# Perform permutation test with 10,000 permutations\n",
    "p_value = permutation_test(cookie_cats_data, 'sum_gamerounds', 1000)\n",
    "\n",
    "# Print the p-value\n",
    "print(\"\\nPermutation Test:\")\n",
    "print(\"The p-value is:\", p_value)\n",
    "if p_value < 0.05:\n",
    "    print(\"The difference in average sum gamerounds between versions is statistically significant.\")\n",
    "else:\n",
    "    print(\"There is no significant difference in average sum gamerounds between versions.\")"
   ]
  }
 ],
 "metadata": {
  "kernelspec": {
   "display_name": "Python 3",
   "language": "python",
   "name": "python3"
  },
  "language_info": {
   "codemirror_mode": {
    "name": "ipython",
    "version": 3
   },
   "file_extension": ".py",
   "mimetype": "text/x-python",
   "name": "python",
   "nbconvert_exporter": "python",
   "pygments_lexer": "ipython3",
   "version": "3.11.2"
  }
 },
 "nbformat": 4,
 "nbformat_minor": 2
}
