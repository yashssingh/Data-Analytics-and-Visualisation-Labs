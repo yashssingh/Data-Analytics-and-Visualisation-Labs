{
 "cells": [
  {
   "cell_type": "code",
   "execution_count": 23,
   "metadata": {},
   "outputs": [],
   "source": [
    "# Importing necessary libraries\n",
    "import pandas as pd\n",
    "import seaborn as sns\n",
    "import numpy as np\n",
    "import matplotlib.pyplot as plt\n",
    "from matplotlib import transforms\n",
    "from joypy import joyplot\n",
    "import squarify\n",
    "import plotly.express as px\n",
    "from itertools import product\n"
   ]
  },
  {
   "cell_type": "code",
   "execution_count": 24,
   "metadata": {},
   "outputs": [
    {
     "data": {
      "text/html": [
       "<div>\n",
       "<style scoped>\n",
       "    .dataframe tbody tr th:only-of-type {\n",
       "        vertical-align: middle;\n",
       "    }\n",
       "\n",
       "    .dataframe tbody tr th {\n",
       "        vertical-align: top;\n",
       "    }\n",
       "\n",
       "    .dataframe thead th {\n",
       "        text-align: right;\n",
       "    }\n",
       "</style>\n",
       "<table border=\"1\" class=\"dataframe\">\n",
       "  <thead>\n",
       "    <tr style=\"text-align: right;\">\n",
       "      <th></th>\n",
       "      <th>2007-08</th>\n",
       "      <th>2008-09</th>\n",
       "      <th>2009-10</th>\n",
       "      <th>2010-11</th>\n",
       "      <th>2011-12</th>\n",
       "    </tr>\n",
       "    <tr>\n",
       "      <th>States/Uts</th>\n",
       "      <th></th>\n",
       "      <th></th>\n",
       "      <th></th>\n",
       "      <th></th>\n",
       "      <th></th>\n",
       "    </tr>\n",
       "  </thead>\n",
       "  <tbody>\n",
       "    <tr>\n",
       "      <th>Andhra Pradesh</th>\n",
       "      <td>8925</td>\n",
       "      <td>9570</td>\n",
       "      <td>10429</td>\n",
       "      <td>11203</td>\n",
       "      <td>12088</td>\n",
       "    </tr>\n",
       "    <tr>\n",
       "      <th>Arunachal Pradesh</th>\n",
       "      <td>32</td>\n",
       "      <td>24</td>\n",
       "      <td>26</td>\n",
       "      <td>28</td>\n",
       "      <td>22</td>\n",
       "    </tr>\n",
       "    <tr>\n",
       "      <th>Assam</th>\n",
       "      <td>752</td>\n",
       "      <td>753</td>\n",
       "      <td>756</td>\n",
       "      <td>790</td>\n",
       "      <td>796</td>\n",
       "    </tr>\n",
       "    <tr>\n",
       "      <th>Bihar</th>\n",
       "      <td>5783</td>\n",
       "      <td>5934</td>\n",
       "      <td>6124</td>\n",
       "      <td>6517</td>\n",
       "      <td>6643</td>\n",
       "    </tr>\n",
       "    <tr>\n",
       "      <th>Chhattisgarh</th>\n",
       "      <td>866</td>\n",
       "      <td>908</td>\n",
       "      <td>956</td>\n",
       "      <td>1029</td>\n",
       "      <td>1119</td>\n",
       "    </tr>\n",
       "  </tbody>\n",
       "</table>\n",
       "</div>"
      ],
      "text/plain": [
       "                   2007-08  2008-09  2009-10  2010-11  2011-12\n",
       "States/Uts                                                    \n",
       "Andhra Pradesh        8925     9570    10429    11203    12088\n",
       "Arunachal Pradesh       32       24       26       28       22\n",
       "Assam                  752      753      756      790      796\n",
       "Bihar                 5783     5934     6124     6517     6643\n",
       "Chhattisgarh           866      908      956     1029     1119"
      ]
     },
     "execution_count": 24,
     "metadata": {},
     "output_type": "execute_result"
    }
   ],
   "source": [
    "# Reading milk production data\n",
    "milk_prod_d = pd.read_csv(\"/Users/yashsingh/Desktop/Data Analytics and Visualization/Week 5/Milk_Production_2007_2012.csv\", index_col='States/Uts')\n",
    "milk_prod_d.head()\n",
    "\n",
    "# Reading egg production data\n",
    "egg_prod_d = pd.read_csv(\n",
    "    \"/Users/yashsingh/Desktop/Data Analytics and Visualization/Week 5/Milk_Production_2007_2012.csv\", index_col='States/Uts')\n",
    "egg_prod_d.columns = milk_prod_d.columns\n",
    "egg_prod_d.head()\n"
   ]
  },
  {
   "cell_type": "code",
   "execution_count": 25,
   "metadata": {},
   "outputs": [
    {
     "data": {
      "text/html": [
       "<div>\n",
       "<style scoped>\n",
       "    .dataframe tbody tr th:only-of-type {\n",
       "        vertical-align: middle;\n",
       "    }\n",
       "\n",
       "    .dataframe tbody tr th {\n",
       "        vertical-align: top;\n",
       "    }\n",
       "\n",
       "    .dataframe thead tr th {\n",
       "        text-align: left;\n",
       "    }\n",
       "\n",
       "    .dataframe thead tr:last-of-type th {\n",
       "        text-align: right;\n",
       "    }\n",
       "</style>\n",
       "<table border=\"1\" class=\"dataframe\">\n",
       "  <thead>\n",
       "    <tr>\n",
       "      <th></th>\n",
       "      <th colspan=\"5\" halign=\"left\">Egg</th>\n",
       "      <th colspan=\"5\" halign=\"left\">Milk</th>\n",
       "    </tr>\n",
       "    <tr>\n",
       "      <th></th>\n",
       "      <th>2007-08</th>\n",
       "      <th>2008-09</th>\n",
       "      <th>2009-10</th>\n",
       "      <th>2010-11</th>\n",
       "      <th>2011-12</th>\n",
       "      <th>2007-08</th>\n",
       "      <th>2008-09</th>\n",
       "      <th>2009-10</th>\n",
       "      <th>2010-11</th>\n",
       "      <th>2011-12</th>\n",
       "    </tr>\n",
       "    <tr>\n",
       "      <th>States/Uts</th>\n",
       "      <th></th>\n",
       "      <th></th>\n",
       "      <th></th>\n",
       "      <th></th>\n",
       "      <th></th>\n",
       "      <th></th>\n",
       "      <th></th>\n",
       "      <th></th>\n",
       "      <th></th>\n",
       "      <th></th>\n",
       "    </tr>\n",
       "  </thead>\n",
       "  <tbody>\n",
       "    <tr>\n",
       "      <th>Andhra Pradesh</th>\n",
       "      <td>8925</td>\n",
       "      <td>9570</td>\n",
       "      <td>10429</td>\n",
       "      <td>11203</td>\n",
       "      <td>12088</td>\n",
       "      <td>8925</td>\n",
       "      <td>9570</td>\n",
       "      <td>10429</td>\n",
       "      <td>11203</td>\n",
       "      <td>12088</td>\n",
       "    </tr>\n",
       "    <tr>\n",
       "      <th>Arunachal Pradesh</th>\n",
       "      <td>32</td>\n",
       "      <td>24</td>\n",
       "      <td>26</td>\n",
       "      <td>28</td>\n",
       "      <td>22</td>\n",
       "      <td>32</td>\n",
       "      <td>24</td>\n",
       "      <td>26</td>\n",
       "      <td>28</td>\n",
       "      <td>22</td>\n",
       "    </tr>\n",
       "    <tr>\n",
       "      <th>Assam</th>\n",
       "      <td>752</td>\n",
       "      <td>753</td>\n",
       "      <td>756</td>\n",
       "      <td>790</td>\n",
       "      <td>796</td>\n",
       "      <td>752</td>\n",
       "      <td>753</td>\n",
       "      <td>756</td>\n",
       "      <td>790</td>\n",
       "      <td>796</td>\n",
       "    </tr>\n",
       "    <tr>\n",
       "      <th>Bihar</th>\n",
       "      <td>5783</td>\n",
       "      <td>5934</td>\n",
       "      <td>6124</td>\n",
       "      <td>6517</td>\n",
       "      <td>6643</td>\n",
       "      <td>5783</td>\n",
       "      <td>5934</td>\n",
       "      <td>6124</td>\n",
       "      <td>6517</td>\n",
       "      <td>6643</td>\n",
       "    </tr>\n",
       "    <tr>\n",
       "      <th>Chhattisgarh</th>\n",
       "      <td>866</td>\n",
       "      <td>908</td>\n",
       "      <td>956</td>\n",
       "      <td>1029</td>\n",
       "      <td>1119</td>\n",
       "      <td>866</td>\n",
       "      <td>908</td>\n",
       "      <td>956</td>\n",
       "      <td>1029</td>\n",
       "      <td>1119</td>\n",
       "    </tr>\n",
       "  </tbody>\n",
       "</table>\n",
       "</div>"
      ],
      "text/plain": [
       "                      Egg                                    Milk          \\\n",
       "                  2007-08 2008-09 2009-10 2010-11 2011-12 2007-08 2008-09   \n",
       "States/Uts                                                                  \n",
       "Andhra Pradesh       8925    9570   10429   11203   12088    8925    9570   \n",
       "Arunachal Pradesh      32      24      26      28      22      32      24   \n",
       "Assam                 752     753     756     790     796     752     753   \n",
       "Bihar                5783    5934    6124    6517    6643    5783    5934   \n",
       "Chhattisgarh          866     908     956    1029    1119     866     908   \n",
       "\n",
       "                                           \n",
       "                  2009-10 2010-11 2011-12  \n",
       "States/Uts                                 \n",
       "Andhra Pradesh      10429   11203   12088  \n",
       "Arunachal Pradesh      26      28      22  \n",
       "Assam                 756     790     796  \n",
       "Bihar                6124    6517    6643  \n",
       "Chhattisgarh          956    1029    1119  "
      ]
     },
     "execution_count": 25,
     "metadata": {},
     "output_type": "execute_result"
    }
   ],
   "source": [
    "# Merging egg and milk production data\n",
    "merged_prod_d = pd.concat([egg_prod_d, milk_prod_d], axis=1, keys=['Egg', 'Milk'])\n",
    "merged_prod_d.fillna(0, inplace=True)\n",
    "merged_prod_d.head()\n"
   ]
  },
  {
   "cell_type": "code",
   "execution_count": 26,
   "metadata": {},
   "outputs": [
    {
     "data": {
      "image/png": "[encoded data removed]",
      "text/plain": [
       "<Figure size 1500x800 with 2 Axes>"
      ]
     },
     "metadata": {},
     "output_type": "display_data"
    }
   ],
   "source": [
    "# Selecting regions for visualization\n",
    "regions = merged_prod_d1[:35].index\n",
    "cmap = plt.get_cmap(\"tab20c\")\n",
    "\n",
    "# Creating subplots for pie charts\n",
    "_, ax = plt.subplots(1, 2, figsize=(15, 8))\n",
    "size = 0.3\n",
    "\n",
    "# Plotting pie chart for egg production\n",
    "ax[0].pie(merged_prod_d.loc[regions, 'Egg'].to_numpy().flatten(),\n",
    "          radius=1-size, wedgeprops=dict(width=0.3, edgecolor='w'))\n",
    "ax[0].pie(merged_prod_d.loc[regions, 'Egg'].to_numpy().sum(axis=1),\n",
    "          radius=1, wedgeprops=dict(width=0.3, edgecolor='w'), labels=regions)\n",
    "ax[0].legend(merged_prod_d[['Egg']].columns.get_level_values(\n",
    "    1), loc='upper left', bbox_to_anchor=(1, 1), fontsize=12)\n",
    "\n",
    "\n",
    "# Displaying the pie charts\n",
    "plt.show()"
   ]
  },
  {
   "cell_type": "code",
   "execution_count": 27,
   "metadata": {},
   "outputs": [
    {
     "data": {
      "application/vnd.plotly.v1+json": {
       "config": {
        "plotlyServerURL": "https://plot.ly"
       },
       "data": [
        {
         "branchvalues": "total",
         "domain": {
          "x": [
           0,
           1
          ],
          "y": [
           0,
           1
          ]
         },
         "hovertemplate": "labels=%{label}<br>Production=%{value}<br>parent=%{parent}<br>id=%{id}<extra></extra>",
         "ids": [
          "Andaman & Nicobar Islands/2007-08",
          "Andhra Pradesh/2007-08",
          "Arunachal Pradesh/2007-08",
          "Assam/2007-08",
          "Bihar/2007-08",
          "Chandigarh/2007-08",
          "Chhattisgarh/2007-08",
          "Dadar & Nagar Haveli/2007-08",
          "Daman & Diu/2007-08",
          "Delhi/2007-08",
          "Goa/2007-08",
          "Gujarat/2007-08",
          "Haryana/2007-08",
          "Himachal Pradesh/2007-08",
          "Jammu & Kashmir/2007-08",
          "Jharkhand/2007-08",
          "Karnataka/2007-08",
          "Kerala/2007-08",
          "Lakshadweep/2007-08",
          "Madhya Pradesh/2007-08",
          "Maharashtra/2007-08",
          "Manipur/2007-08",
          "Meghalaya/2007-08",
          "Mizoram/2007-08",
          "Nagaland/2007-08",
          "Orissa/2007-08",
          "Puducherry/2007-08",
          "Punjab/2007-08",
          "Rajasthan/2007-08",
          "Sikkim/2007-08",
          "Tamil Nadu/2007-08",
          "Tripura/2007-08",
          "Uttar Pradesh/2007-08",
          "Uttarakhand/2007-08",
          "West Bengal/2007-08",
          "Andaman & Nicobar Islands/2008-09",
          "Andhra Pradesh/2008-09",
          "Arunachal Pradesh/2008-09",
          "Assam/2008-09",
          "Bihar/2008-09",
          "Chandigarh/2008-09",
          "Chhattisgarh/2008-09",
          "Dadar & Nagar Haveli/2008-09",
          "Daman & Diu/2008-09",
          "Delhi/2008-09",
          "Goa/2008-09",
          "Gujarat/2008-09",
          "Haryana/2008-09",
          "Himachal Pradesh/2008-09",
          "Jammu & Kashmir/2008-09",
          "Jharkhand/2008-09",
          "Karnataka/2008-09",
          "Kerala/2008-09",
          "Lakshadweep/2008-09",
          "Madhya Pradesh/2008-09",
          "Maharashtra/2008-09",
          "Manipur/2008-09",
          "Meghalaya/2008-09",
          "Mizoram/2008-09",
          "Nagaland/2008-09",
          "Orissa/2008-09",
          "Puducherry/2008-09",
          "Punjab/2008-09",
          "Rajasthan/2008-09",
          "Sikkim/2008-09",
          "Tamil Nadu/2008-09",
          "Tripura/2008-09",
          "Uttar Pradesh/2008-09",
          "Uttarakhand/2008-09",
          "West Bengal/2008-09",
          "Andaman & Nicobar Islands/2009-10",
          "Andhra Pradesh/2009-10",
          "Arunachal Pradesh/2009-10",
          "Assam/2009-10",
          "Bihar/2009-10",
          "Chandigarh/2009-10",
          "Chhattisgarh/2009-10",
          "Dadar & Nagar Haveli/2009-10",
          "Daman & Diu/2009-10",
          "Delhi/2009-10",
          "Goa/2009-10",
          "Gujarat/2009-10",
          "Haryana/2009-10",
          "Himachal Pradesh/2009-10",
          "Jammu & Kashmir/2009-10",
          "Jharkhand/2009-10",
          "Karnataka/2009-10",
          "Kerala/2009-10",
          "Lakshadweep/2009-10",
          "Madhya Pradesh/2009-10",
          "Maharashtra/2009-10",
          "Manipur/2009-10",
          "Meghalaya/2009-10",
          "Mizoram/2009-10",
          "Nagaland/2009-10",
          "Orissa/2009-10",
          "Puducherry/2009-10",
          "Punjab/2009-10",
          "Rajasthan/2009-10",
          "Sikkim/2009-10",
          "Tamil Nadu/2009-10",
          "Tripura/2009-10",
          "Uttar Pradesh/2009-10",
          "Uttarakhand/2009-10",
          "West Bengal/2009-10",
          "Andaman & Nicobar Islands/2010-11",
          "Andhra Pradesh/2010-11",
          "Arunachal Pradesh/2010-11",
          "Assam/2010-11",
          "Bihar/2010-11",
          "Chandigarh/2010-11",
          "Chhattisgarh/2010-11",
          "Dadar & Nagar Haveli/2010-11",
          "Daman & Diu/2010-11",
          "Delhi/2010-11",
          "Goa/2010-11",
          "Gujarat/2010-11",
          "Haryana/2010-11",
          "Himachal Pradesh/2010-11",
          "Jammu & Kashmir/2010-11",
          "Jharkhand/2010-11",
          "Karnataka/2010-11",
          "Kerala/2010-11",
          "Lakshadweep/2010-11",
          "Madhya Pradesh/2010-11",
          "Maharashtra/2010-11",
          "Manipur/2010-11",
          "Meghalaya/2010-11",
          "Mizoram/2010-11",
          "Nagaland/2010-11",
          "Orissa/2010-11",
          "Puducherry/2010-11",
          "Punjab/2010-11",
          "Rajasthan/2010-11",
          "Sikkim/2010-11",
          "Tamil Nadu/2010-11",
          "Tripura/2010-11",
          "Uttar Pradesh/2010-11",
          "Uttarakhand/2010-11",
          "West Bengal/2010-11",
          "Andaman & Nicobar Islands/2011-12",
          "Andhra Pradesh/2011-12",
          "Arunachal Pradesh/2011-12",
          "Assam/2011-12",
          "Bihar/2011-12",
          "Chandigarh/2011-12",
          "Chhattisgarh/2011-12",
          "Dadar & Nagar Haveli/2011-12",
          "Daman & Diu/2011-12",
          "Delhi/2011-12",
          "Goa/2011-12",
          "Gujarat/2011-12",
          "Haryana/2011-12",
          "Himachal Pradesh/2011-12",
          "Jammu & Kashmir/2011-12",
          "Jharkhand/2011-12",
          "Karnataka/2011-12",
          "Kerala/2011-12",
          "Lakshadweep/2011-12",
          "Madhya Pradesh/2011-12",
          "Maharashtra/2011-12",
          "Manipur/2011-12",
          "Meghalaya/2011-12",
          "Mizoram/2011-12",
          "Nagaland/2011-12",
          "Orissa/2011-12",
          "Puducherry/2011-12",
          "Punjab/2011-12",
          "Rajasthan/2011-12",
          "Sikkim/2011-12",
          "Tamil Nadu/2011-12",
          "Tripura/2011-12",
          "Uttar Pradesh/2011-12",
          "Uttarakhand/2011-12",
          "West Bengal/2011-12",
          "Andaman & Nicobar Islands",
          "Andhra Pradesh",
          "Arunachal Pradesh",
          "Assam",
          "Bihar",
          "Chandigarh",
          "Chhattisgarh",
          "Dadar & Nagar Haveli",
          "Daman & Diu",
          "Delhi",
          "Goa",
          "Gujarat",
          "Haryana",
          "Himachal Pradesh",
          "Jammu & Kashmir",
          "Jharkhand",
          "Karnataka",
          "Kerala",
          "Lakshadweep",
          "Madhya Pradesh",
          "Maharashtra",
          "Manipur",
          "Meghalaya",
          "Mizoram",
          "Nagaland",
          "Orissa",
          "Puducherry",
          "Punjab",
          "Rajasthan",
          "Sikkim",
          "Tamil Nadu",
          "Tripura",
          "Uttar Pradesh",
          "Uttarakhand",
          "West Bengal"
         ],
         "labels": [
          "2007-08",
          "2007-08",
          "2007-08",
          "2007-08",
          "2007-08",
          "2007-08",
          "2007-08",
          "2007-08",
          "2007-08",
          "2007-08",
          "2007-08",
          "2007-08",
          "2007-08",
          "2007-08",
          "2007-08",
          "2007-08",
          "2007-08",
          "2007-08",
          "2007-08",
          "2007-08",
          "2007-08",
          "2007-08",
          "2007-08",
          "2007-08",
          "2007-08",
          "2007-08",
          "2007-08",
          "2007-08",
          "2007-08",
          "2007-08",
          "2007-08",
          "2007-08",
          "2007-08",
          "2007-08",
          "2007-08",
          "2008-09",
          "2008-09",
          "2008-09",
          "2008-09",
          "2008-09",
          "2008-09",
          "2008-09",
          "2008-09",
          "2008-09",
          "2008-09",
          "2008-09",
          "2008-09",
          "2008-09",
          "2008-09",
          "2008-09",
          "2008-09",
          "2008-09",
          "2008-09",
          "2008-09",
          "2008-09",
          "2008-09",
          "2008-09",
          "2008-09",
          "2008-09",
          "2008-09",
          "2008-09",
          "2008-09",
          "2008-09",
          "2008-09",
          "2008-09",
          "2008-09",
          "2008-09",
          "2008-09",
          "2008-09",
          "2008-09",
          "2009-10",
          "2009-10",
          "2009-10",
          "2009-10",
          "2009-10",
          "2009-10",
          "2009-10",
          "2009-10",
          "2009-10",
          "2009-10",
          "2009-10",
          "2009-10",
          "2009-10",
          "2009-10",
          "2009-10",
          "2009-10",
          "2009-10",
          "2009-10",
          "2009-10",
          "2009-10",
          "2009-10",
          "2009-10",
          "2009-10",
          "2009-10",
          "2009-10",
          "2009-10",
          "2009-10",
          "2009-10",
          "2009-10",
          "2009-10",
          "2009-10",
          "2009-10",
          "2009-10",
          "2009-10",
          "2009-10",
          "2010-11",
          "2010-11",
          "2010-11",
          "2010-11",
          "2010-11",
          "2010-11",
          "2010-11",
          "2010-11",
          "2010-11",
          "2010-11",
          "2010-11",
          "2010-11",
          "2010-11",
          "2010-11",
          "2010-11",
          "2010-11",
          "2010-11",
          "2010-11",
          "2010-11",
          "2010-11",
          "2010-11",
          "2010-11",
          "2010-11",
          "2010-11",
          "2010-11",
          "2010-11",
          "2010-11",
          "2010-11",
          "2010-11",
          "2010-11",
          "2010-11",
          "2010-11",
          "2010-11",
          "2010-11",
          "2010-11",
          "2011-12",
          "2011-12",
          "2011-12",
          "2011-12",
          "2011-12",
          "2011-12",
          "2011-12",
          "2011-12",
          "2011-12",
          "2011-12",
          "2011-12",
          "2011-12",
          "2011-12",
          "2011-12",
          "2011-12",
          "2011-12",
          "2011-12",
          "2011-12",
          "2011-12",
          "2011-12",
          "2011-12",
          "2011-12",
          "2011-12",
          "2011-12",
          "2011-12",
          "2011-12",
          "2011-12",
          "2011-12",
          "2011-12",
          "2011-12",
          "2011-12",
          "2011-12",
          "2011-12",
          "2011-12",
          "2011-12",
          "Andaman & Nicobar Islands",
          "Andhra Pradesh",
          "Arunachal Pradesh",
          "Assam",
          "Bihar",
          "Chandigarh",
          "Chhattisgarh",
          "Dadar & Nagar Haveli",
          "Daman & Diu",
          "Delhi",
          "Goa",
          "Gujarat",
          "Haryana",
          "Himachal Pradesh",
          "Jammu & Kashmir",
          "Jharkhand",
          "Karnataka",
          "Kerala",
          "Lakshadweep",
          "Madhya Pradesh",
          "Maharashtra",
          "Manipur",
          "Meghalaya",
          "Mizoram",
          "Nagaland",
          "Orissa",
          "Puducherry",
          "Punjab",
          "Rajasthan",
          "Sikkim",
          "Tamil Nadu",
          "Tripura",
          "Uttar Pradesh",
          "Uttarakhand",
          "West Bengal"
         ],
         "name": "",
         "parents": [
          "Andaman & Nicobar Islands",
          "Andhra Pradesh",
          "Arunachal Pradesh",
          "Assam",
          "Bihar",
          "Chandigarh",
          "Chhattisgarh",
          "Dadar & Nagar Haveli",
          "Daman & Diu",
          "Delhi",
          "Goa",
          "Gujarat",
          "Haryana",
          "Himachal Pradesh",
          "Jammu & Kashmir",
          "Jharkhand",
          "Karnataka",
          "Kerala",
          "Lakshadweep",
          "Madhya Pradesh",
          "Maharashtra",
          "Manipur",
          "Meghalaya",
          "Mizoram",
          "Nagaland",
          "Orissa",
          "Puducherry",
          "Punjab",
          "Rajasthan",
          "Sikkim",
          "Tamil Nadu",
          "Tripura",
          "Uttar Pradesh",
          "Uttarakhand",
          "West Bengal",
          "Andaman & Nicobar Islands",
          "Andhra Pradesh",
          "Arunachal Pradesh",
          "Assam",
          "Bihar",
          "Chandigarh",
          "Chhattisgarh",
          "Dadar & Nagar Haveli",
          "Daman & Diu",
          "Delhi",
          "Goa",
          "Gujarat",
          "Haryana",
          "Himachal Pradesh",
          "Jammu & Kashmir",
          "Jharkhand",
          "Karnataka",
          "Kerala",
          "Lakshadweep",
          "Madhya Pradesh",
          "Maharashtra",
          "Manipur",
          "Meghalaya",
          "Mizoram",
          "Nagaland",
          "Orissa",
          "Puducherry",
          "Punjab",
          "Rajasthan",
          "Sikkim",
          "Tamil Nadu",
          "Tripura",
          "Uttar Pradesh",
          "Uttarakhand",
          "West Bengal",
          "Andaman & Nicobar Islands",
          "Andhra Pradesh",
          "Arunachal Pradesh",
          "Assam",
          "Bihar",
          "Chandigarh",
          "Chhattisgarh",
          "Dadar & Nagar Haveli",
          "Daman & Diu",
          "Delhi",
          "Goa",
          "Gujarat",
          "Haryana",
          "Himachal Pradesh",
          "Jammu & Kashmir",
          "Jharkhand",
          "Karnataka",
          "Kerala",
          "Lakshadweep",
          "Madhya Pradesh",
          "Maharashtra",
          "Manipur",
          "Meghalaya",
          "Mizoram",
          "Nagaland",
          "Orissa",
          "Puducherry",
          "Punjab",
          "Rajasthan",
          "Sikkim",
          "Tamil Nadu",
          "Tripura",
          "Uttar Pradesh",
          "Uttarakhand",
          "West Bengal",
          "Andaman & Nicobar Islands",
          "Andhra Pradesh",
          "Arunachal Pradesh",
          "Assam",
          "Bihar",
          "Chandigarh",
          "Chhattisgarh",
          "Dadar & Nagar Haveli",
          "Daman & Diu",
          "Delhi",
          "Goa",
          "Gujarat",
          "Haryana",
          "Himachal Pradesh",
          "Jammu & Kashmir",
          "Jharkhand",
          "Karnataka",
          "Kerala",
          "Lakshadweep",
          "Madhya Pradesh",
          "Maharashtra",
          "Manipur",
          "Meghalaya",
          "Mizoram",
          "Nagaland",
          "Orissa",
          "Puducherry",
          "Punjab",
          "Rajasthan",
          "Sikkim",
          "Tamil Nadu",
          "Tripura",
          "Uttar Pradesh",
          "Uttarakhand",
          "West Bengal",
          "Andaman & Nicobar Islands",
          "Andhra Pradesh",
          "Arunachal Pradesh",
          "Assam",
          "Bihar",
          "Chandigarh",
          "Chhattisgarh",
          "Dadar & Nagar Haveli",
          "Daman & Diu",
          "Delhi",
          "Goa",
          "Gujarat",
          "Haryana",
          "Himachal Pradesh",
          "Jammu & Kashmir",
          "Jharkhand",
          "Karnataka",
          "Kerala",
          "Lakshadweep",
          "Madhya Pradesh",
          "Maharashtra",
          "Manipur",
          "Meghalaya",
          "Mizoram",
          "Nagaland",
          "Orissa",
          "Puducherry",
          "Punjab",
          "Rajasthan",
          "Sikkim",
          "Tamil Nadu",
          "Tripura",
          "Uttar Pradesh",
          "Uttarakhand",
          "West Bengal",
          "",
          "",
          "",
          "",
          "",
          "",
          "",
          "",
          "",
          "",
          "",
          "",
          "",
          "",
          "",
          "",
          "",
          "",
          "",
          "",
          "",
          "",
          "",
          "",
          "",
          "",
          "",
          "",
          "",
          "",
          "",
          "",
          "",
          "",
          ""
         ],
         "type": "treemap",
         "values": [
          24,
          8925,
          32,
          752,
          5783,
          47,
          866,
          10,
          1,
          445,
          58,
          7911,
          5442,
          1007,
          1519,
          1442,
          4244,
          2253,
          2,
          6572,
          7210,
          78,
          77,
          17,
          45,
          1625,
          47,
          9282,
          11377,
          42,
          6540,
          91,
          18861,
          1221,
          4087,
          26,
          9570,
          24,
          753,
          5934,
          47,
          908,
          10,
          1,
          450,
          59,
          8386,
          5745,
          1026,
          1565,
          1466,
          4538,
          2441,
          2,
          6855,
          7455,
          79,
          78,
          17,
          53,
          1598,
          46,
          9387,
          11931,
          42,
          6651,
          96,
          19537,
          1230,
          4176,
          24,
          10429,
          26,
          756,
          6124,
          46,
          956,
          10,
          1,
          466,
          59,
          8844,
          6006,
          971,
          1592,
          1463,
          4822,
          2509,
          2,
          7167,
          7679,
          78,
          78,
          11,
          78,
          1651,
          46,
          9389,
          12330,
          44,
          6787,
          100,
          20203,
          1377,
          4300,
          25,
          11203,
          28,
          790,
          6517,
          45,
          1029,
          11,
          1,
          480,
          60,
          9321,
          6267,
          1102,
          1609,
          1555,
          5114,
          2645,
          2,
          7514,
          8044,
          78,
          79,
          11,
          76,
          1671,
          47,
          9423,
          13234,
          43,
          6831,
          104,
          21031,
          1383,
          4471,
          26,
          12088,
          22,
          796,
          6643,
          45,
          1119,
          11,
          1,
          502,
          60,
          9817,
          6661,
          1120,
          1614,
          1745,
          5447,
          2716,
          2,
          8149,
          8469,
          79,
          80,
          14,
          78,
          1721,
          45,
          9551,
          13512,
          45,
          6968,
          111,
          22556,
          1417,
          4672,
          125,
          52215,
          132,
          3847,
          31001,
          230,
          4878,
          52,
          5,
          2343,
          296,
          44279,
          30121,
          5226,
          7899,
          7671,
          24165,
          12564,
          10,
          36257,
          38857,
          392,
          392,
          70,
          330,
          8266,
          231,
          47032,
          62384,
          216,
          33777,
          502,
          102188,
          6628,
          21706
         ]
        }
       ],
       "layout": {
        "legend": {
         "tracegroupgap": 0
        },
        "margin": {
         "t": 60
        },
        "template": {
         "data": {
          "bar": [
           {
            "error_x": {
             "color": "#2a3f5f"
            },
            "error_y": {
             "color": "#2a3f5f"
            },
            "marker": {
             "line": {
              "color": "#E5ECF6",
              "width": 0.5
             },
             "pattern": {
              "fillmode": "overlay",
              "size": 10,
              "solidity": 0.2
             }
            },
            "type": "bar"
           }
          ],
          "barpolar": [
           {
            "marker": {
             "line": {
              "color": "#E5ECF6",
              "width": 0.5
             },
             "pattern": {
              "fillmode": "overlay",
              "size": 10,
              "solidity": 0.2
             }
            },
            "type": "barpolar"
           }
          ],
          "carpet": [
           {
            "aaxis": {
             "endlinecolor": "#2a3f5f",
             "gridcolor": "white",
             "linecolor": "white",
             "minorgridcolor": "white",
             "startlinecolor": "#2a3f5f"
            },
            "baxis": {
             "endlinecolor": "#2a3f5f",
             "gridcolor": "white",
             "linecolor": "white",
             "minorgridcolor": "white",
             "startlinecolor": "#2a3f5f"
            },
            "type": "carpet"
           }
          ],
          "choropleth": [
           {
            "colorbar": {
             "outlinewidth": 0,
             "ticks": ""
            },
            "type": "choropleth"
           }
          ],
          "contour": [
           {
            "colorbar": {
             "outlinewidth": 0,
             "ticks": ""
            },
            "colorscale": [
             [
              0,
              "#0d0887"
             ],
             [
              0.1111111111111111,
              "#46039f"
             ],
             [
              0.2222222222222222,
              "#7201a8"
             ],
             [
              0.3333333333333333,
              "#9c179e"
             ],
             [
              0.4444444444444444,
              "#bd3786"
             ],
             [
              0.5555555555555556,
              "#d8576b"
             ],
             [
              0.6666666666666666,
              "#ed7953"
             ],
             [
              0.7777777777777778,
              "#fb9f3a"
             ],
             [
              0.8888888888888888,
              "#fdca26"
             ],
             [
              1,
              "#f0f921"
             ]
            ],
            "type": "contour"
           }
          ],
          "contourcarpet": [
           {
            "colorbar": {
             "outlinewidth": 0,
             "ticks": ""
            },
            "type": "contourcarpet"
           }
          ],
          "heatmap": [
           {
            "colorbar": {
             "outlinewidth": 0,
             "ticks": ""
            },
            "colorscale": [
             [
              0,
              "#0d0887"
             ],
             [
              0.1111111111111111,
              "#46039f"
             ],
             [
              0.2222222222222222,
              "#7201a8"
             ],
             [
              0.3333333333333333,
              "#9c179e"
             ],
             [
              0.4444444444444444,
              "#bd3786"
             ],
             [
              0.5555555555555556,
              "#d8576b"
             ],
             [
              0.6666666666666666,
              "#ed7953"
             ],
             [
              0.7777777777777778,
              "#fb9f3a"
             ],
             [
              0.8888888888888888,
              "#fdca26"
             ],
             [
              1,
              "#f0f921"
             ]
            ],
            "type": "heatmap"
           }
          ],
          "heatmapgl": [
           {
            "colorbar": {
             "outlinewidth": 0,
             "ticks": ""
            },
            "colorscale": [
             [
              0,
              "#0d0887"
             ],
             [
              0.1111111111111111,
              "#46039f"
             ],
             [
              0.2222222222222222,
              "#7201a8"
             ],
             [
              0.3333333333333333,
              "#9c179e"
             ],
             [
              0.4444444444444444,
              "#bd3786"
             ],
             [
              0.5555555555555556,
              "#d8576b"
             ],
             [
              0.6666666666666666,
              "#ed7953"
             ],
             [
              0.7777777777777778,
              "#fb9f3a"
             ],
             [
              0.8888888888888888,
              "#fdca26"
             ],
             [
              1,
              "#f0f921"
             ]
            ],
            "type": "heatmapgl"
           }
          ],
          "histogram": [
           {
            "marker": {
             "pattern": {
              "fillmode": "overlay",
              "size": 10,
              "solidity": 0.2
             }
            },
            "type": "histogram"
           }
          ],
          "histogram2d": [
           {
            "colorbar": {
             "outlinewidth": 0,
             "ticks": ""
            },
            "colorscale": [
             [
              0,
              "#0d0887"
             ],
             [
              0.1111111111111111,
              "#46039f"
             ],
             [
              0.2222222222222222,
              "#7201a8"
             ],
             [
              0.3333333333333333,
              "#9c179e"
             ],
             [
              0.4444444444444444,
              "#bd3786"
             ],
             [
              0.5555555555555556,
              "#d8576b"
             ],
             [
              0.6666666666666666,
              "#ed7953"
             ],
             [
              0.7777777777777778,
              "#fb9f3a"
             ],
             [
              0.8888888888888888,
              "#fdca26"
             ],
             [
              1,
              "#f0f921"
             ]
            ],
            "type": "histogram2d"
           }
          ],
          "histogram2dcontour": [
           {
            "colorbar": {
             "outlinewidth": 0,
             "ticks": ""
            },
            "colorscale": [
             [
              0,
              "#0d0887"
             ],
             [
              0.1111111111111111,
              "#46039f"
             ],
             [
              0.2222222222222222,
              "#7201a8"
             ],
             [
              0.3333333333333333,
              "#9c179e"
             ],
             [
              0.4444444444444444,
              "#bd3786"
             ],
             [
              0.5555555555555556,
              "#d8576b"
             ],
             [
              0.6666666666666666,
              "#ed7953"
             ],
             [
              0.7777777777777778,
              "#fb9f3a"
             ],
             [
              0.8888888888888888,
              "#fdca26"
             ],
             [
              1,
              "#f0f921"
             ]
            ],
            "type": "histogram2dcontour"
           }
          ],
          "mesh3d": [
           {
            "colorbar": {
             "outlinewidth": 0,
             "ticks": ""
            },
            "type": "mesh3d"
           }
          ],
          "parcoords": [
           {
            "line": {
             "colorbar": {
              "outlinewidth": 0,
              "ticks": ""
             }
            },
            "type": "parcoords"
           }
          ],
          "pie": [
           {
            "automargin": true,
            "type": "pie"
           }
          ],
          "scatter": [
           {
            "fillpattern": {
             "fillmode": "overlay",
             "size": 10,
             "solidity": 0.2
            },
            "type": "scatter"
           }
          ],
          "scatter3d": [
           {
            "line": {
             "colorbar": {
              "outlinewidth": 0,
              "ticks": ""
             }
            },
            "marker": {
             "colorbar": {
              "outlinewidth": 0,
              "ticks": ""
             }
            },
            "type": "scatter3d"
           }
          ],
          "scattercarpet": [
           {
            "marker": {
             "colorbar": {
              "outlinewidth": 0,
              "ticks": ""
             }
            },
            "type": "scattercarpet"
           }
          ],
          "scattergeo": [
           {
            "marker": {
             "colorbar": {
              "outlinewidth": 0,
              "ticks": ""
             }
            },
            "type": "scattergeo"
           }
          ],
          "scattergl": [
           {
            "marker": {
             "colorbar": {
              "outlinewidth": 0,
              "ticks": ""
             }
            },
            "type": "scattergl"
           }
          ],
          "scattermapbox": [
           {
            "marker": {
             "colorbar": {
              "outlinewidth": 0,
              "ticks": ""
             }
            },
            "type": "scattermapbox"
           }
          ],
          "scatterpolar": [
           {
            "marker": {
             "colorbar": {
              "outlinewidth": 0,
              "ticks": ""
             }
            },
            "type": "scatterpolar"
           }
          ],
          "scatterpolargl": [
           {
            "marker": {
             "colorbar": {
              "outlinewidth": 0,
              "ticks": ""
             }
            },
            "type": "scatterpolargl"
           }
          ],
          "scatterternary": [
           {
            "marker": {
             "colorbar": {
              "outlinewidth": 0,
              "ticks": ""
             }
            },
            "type": "scatterternary"
           }
          ],
          "surface": [
           {
            "colorbar": {
             "outlinewidth": 0,
             "ticks": ""
            },
            "colorscale": [
             [
              0,
              "#0d0887"
             ],
             [
              0.1111111111111111,
              "#46039f"
             ],
             [
              0.2222222222222222,
              "#7201a8"
             ],
             [
              0.3333333333333333,
              "#9c179e"
             ],
             [
              0.4444444444444444,
              "#bd3786"
             ],
             [
              0.5555555555555556,
              "#d8576b"
             ],
             [
              0.6666666666666666,
              "#ed7953"
             ],
             [
              0.7777777777777778,
              "#fb9f3a"
             ],
             [
              0.8888888888888888,
              "#fdca26"
             ],
             [
              1,
              "#f0f921"
             ]
            ],
            "type": "surface"
           }
          ],
          "table": [
           {
            "cells": {
             "fill": {
              "color": "#EBF0F8"
             },
             "line": {
              "color": "white"
             }
            },
            "header": {
             "fill": {
              "color": "#C8D4E3"
             },
             "line": {
              "color": "white"
             }
            },
            "type": "table"
           }
          ]
         },
         "layout": {
          "annotationdefaults": {
           "arrowcolor": "#2a3f5f",
           "arrowhead": 0,
           "arrowwidth": 1
          },
          "autotypenumbers": "strict",
          "coloraxis": {
           "colorbar": {
            "outlinewidth": 0,
            "ticks": ""
           }
          },
          "colorscale": {
           "diverging": [
            [
             0,
             "#8e0152"
            ],
            [
             0.1,
             "#c51b7d"
            ],
            [
             0.2,
             "#de77ae"
            ],
            [
             0.3,
             "#f1b6da"
            ],
            [
             0.4,
             "#fde0ef"
            ],
            [
             0.5,
             "#f7f7f7"
            ],
            [
             0.6,
             "#e6f5d0"
            ],
            [
             0.7,
             "#b8e186"
            ],
            [
             0.8,
             "#7fbc41"
            ],
            [
             0.9,
             "#4d9221"
            ],
            [
             1,
             "#276419"
            ]
           ],
           "sequential": [
            [
             0,
             "#0d0887"
            ],
            [
             0.1111111111111111,
             "#46039f"
            ],
            [
             0.2222222222222222,
             "#7201a8"
            ],
            [
             0.3333333333333333,
             "#9c179e"
            ],
            [
             0.4444444444444444,
             "#bd3786"
            ],
            [
             0.5555555555555556,
             "#d8576b"
            ],
            [
             0.6666666666666666,
             "#ed7953"
            ],
            [
             0.7777777777777778,
             "#fb9f3a"
            ],
            [
             0.8888888888888888,
             "#fdca26"
            ],
            [
             1,
             "#f0f921"
            ]
           ],
           "sequentialminus": [
            [
             0,
             "#0d0887"
            ],
            [
             0.1111111111111111,
             "#46039f"
            ],
            [
             0.2222222222222222,
             "#7201a8"
            ],
            [
             0.3333333333333333,
             "#9c179e"
            ],
            [
             0.4444444444444444,
             "#bd3786"
            ],
            [
             0.5555555555555556,
             "#d8576b"
            ],
            [
             0.6666666666666666,
             "#ed7953"
            ],
            [
             0.7777777777777778,
             "#fb9f3a"
            ],
            [
             0.8888888888888888,
             "#fdca26"
            ],
            [
             1,
             "#f0f921"
            ]
           ]
          },
          "colorway": [
           "#636efa",
           "#EF553B",
           "#00cc96",
           "#ab63fa",
           "#FFA15A",
           "#19d3f3",
           "#FF6692",
           "#B6E880",
           "#FF97FF",
           "#FECB52"
          ],
          "font": {
           "color": "#2a3f5f"
          },
          "geo": {
           "bgcolor": "white",
           "lakecolor": "white",
           "landcolor": "#E5ECF6",
           "showlakes": true,
           "showland": true,
           "subunitcolor": "white"
          },
          "hoverlabel": {
           "align": "left"
          },
          "hovermode": "closest",
          "mapbox": {
           "style": "light"
          },
          "paper_bgcolor": "white",
          "plot_bgcolor": "#E5ECF6",
          "polar": {
           "angularaxis": {
            "gridcolor": "white",
            "linecolor": "white",
            "ticks": ""
           },
           "bgcolor": "#E5ECF6",
           "radialaxis": {
            "gridcolor": "white",
            "linecolor": "white",
            "ticks": ""
           }
          },
          "scene": {
           "xaxis": {
            "backgroundcolor": "#E5ECF6",
            "gridcolor": "white",
            "gridwidth": 2,
            "linecolor": "white",
            "showbackground": true,
            "ticks": "",
            "zerolinecolor": "white"
           },
           "yaxis": {
            "backgroundcolor": "#E5ECF6",
            "gridcolor": "white",
            "gridwidth": 2,
            "linecolor": "white",
            "showbackground": true,
            "ticks": "",
            "zerolinecolor": "white"
           },
           "zaxis": {
            "backgroundcolor": "#E5ECF6",
            "gridcolor": "white",
            "gridwidth": 2,
            "linecolor": "white",
            "showbackground": true,
            "ticks": "",
            "zerolinecolor": "white"
           }
          },
          "shapedefaults": {
           "line": {
            "color": "#2a3f5f"
           }
          },
          "ternary": {
           "aaxis": {
            "gridcolor": "white",
            "linecolor": "white",
            "ticks": ""
           },
           "baxis": {
            "gridcolor": "white",
            "linecolor": "white",
            "ticks": ""
           },
           "bgcolor": "#E5ECF6",
           "caxis": {
            "gridcolor": "white",
            "linecolor": "white",
            "ticks": ""
           }
          },
          "title": {
           "x": 0.05
          },
          "xaxis": {
           "automargin": true,
           "gridcolor": "white",
           "linecolor": "white",
           "ticks": "",
           "title": {
            "standoff": 15
           },
           "zerolinecolor": "white",
           "zerolinewidth": 2
          },
          "yaxis": {
           "automargin": true,
           "gridcolor": "white",
           "linecolor": "white",
           "ticks": "",
           "title": {
            "standoff": 15
           },
           "zerolinecolor": "white",
           "zerolinewidth": 2
          }
         }
        }
       }
      }
     },
     "metadata": {},
     "output_type": "display_data"
    }
   ],
   "source": [
    "\n",
    "# Preparing egg production data for treemap visualization\n",
    "egg_production_df = merged_prod_d['Egg'].drop('All India').reset_index()\n",
    "egg_production_df = egg_production_df.melt(id_vars='States/Uts', var_name='Year',\n",
    "                     value_name='Production')\n",
    "\n",
    "\n",
    "# Plotting treemap for egg production\n",
    "fig = px.treemap(egg_production_df, path=['States/Uts', 'Year'],\n",
    "                 values='Production', color_continuous_scale='RdBu')\n",
    "fig.show()\n"
   ]
  },
  {
   "cell_type": "code",
   "execution_count": 28,
   "metadata": {},
   "outputs": [
    {
     "data": {
      "application/vnd.plotly.v1+json": {
       "config": {
        "plotlyServerURL": "https://plot.ly"
       },
       "data": [
        {
         "branchvalues": "total",
         "domain": {
          "x": [
           0,
           1
          ],
          "y": [
           0,
           1
          ]
         },
         "hovertemplate": "labels=%{label}<br>Production=%{value}<br>parent=%{parent}<br>id=%{id}<extra></extra>",
         "ids": [
          "Andaman & Nicobar Islands/2007-08",
          "Andhra Pradesh/2007-08",
          "Arunachal Pradesh/2007-08",
          "Assam/2007-08",
          "Bihar/2007-08",
          "Chandigarh/2007-08",
          "Chhattisgarh/2007-08",
          "Dadar & Nagar Haveli/2007-08",
          "Daman & Diu/2007-08",
          "Delhi/2007-08",
          "Goa/2007-08",
          "Gujarat/2007-08",
          "Haryana/2007-08",
          "Himachal Pradesh/2007-08",
          "Jammu & Kashmir/2007-08",
          "Jharkhand/2007-08",
          "Karnataka/2007-08",
          "Kerala/2007-08",
          "Lakshadweep/2007-08",
          "Madhya Pradesh/2007-08",
          "Maharashtra/2007-08",
          "Manipur/2007-08",
          "Meghalaya/2007-08",
          "Mizoram/2007-08",
          "Nagaland/2007-08",
          "Orissa/2007-08",
          "Puducherry/2007-08",
          "Punjab/2007-08",
          "Rajasthan/2007-08",
          "Sikkim/2007-08",
          "Tamil Nadu/2007-08",
          "Tripura/2007-08",
          "Uttar Pradesh/2007-08",
          "Uttarakhand/2007-08",
          "West Bengal/2007-08",
          "Andaman & Nicobar Islands/2008-09",
          "Andhra Pradesh/2008-09",
          "Arunachal Pradesh/2008-09",
          "Assam/2008-09",
          "Bihar/2008-09",
          "Chandigarh/2008-09",
          "Chhattisgarh/2008-09",
          "Dadar & Nagar Haveli/2008-09",
          "Daman & Diu/2008-09",
          "Delhi/2008-09",
          "Goa/2008-09",
          "Gujarat/2008-09",
          "Haryana/2008-09",
          "Himachal Pradesh/2008-09",
          "Jammu & Kashmir/2008-09",
          "Jharkhand/2008-09",
          "Karnataka/2008-09",
          "Kerala/2008-09",
          "Lakshadweep/2008-09",
          "Madhya Pradesh/2008-09",
          "Maharashtra/2008-09",
          "Manipur/2008-09",
          "Meghalaya/2008-09",
          "Mizoram/2008-09",
          "Nagaland/2008-09",
          "Orissa/2008-09",
          "Puducherry/2008-09",
          "Punjab/2008-09",
          "Rajasthan/2008-09",
          "Sikkim/2008-09",
          "Tamil Nadu/2008-09",
          "Tripura/2008-09",
          "Uttar Pradesh/2008-09",
          "Uttarakhand/2008-09",
          "West Bengal/2008-09",
          "Andaman & Nicobar Islands/2009-10",
          "Andhra Pradesh/2009-10",
          "Arunachal Pradesh/2009-10",
          "Assam/2009-10",
          "Bihar/2009-10",
          "Chandigarh/2009-10",
          "Chhattisgarh/2009-10",
          "Dadar & Nagar Haveli/2009-10",
          "Daman & Diu/2009-10",
          "Delhi/2009-10",
          "Goa/2009-10",
          "Gujarat/2009-10",
          "Haryana/2009-10",
          "Himachal Pradesh/2009-10",
          "Jammu & Kashmir/2009-10",
          "Jharkhand/2009-10",
          "Karnataka/2009-10",
          "Kerala/2009-10",
          "Lakshadweep/2009-10",
          "Madhya Pradesh/2009-10",
          "Maharashtra/2009-10",
          "Manipur/2009-10",
          "Meghalaya/2009-10",
          "Mizoram/2009-10",
          "Nagaland/2009-10",
          "Orissa/2009-10",
          "Puducherry/2009-10",
          "Punjab/2009-10",
          "Rajasthan/2009-10",
          "Sikkim/2009-10",
          "Tamil Nadu/2009-10",
          "Tripura/2009-10",
          "Uttar Pradesh/2009-10",
          "Uttarakhand/2009-10",
          "West Bengal/2009-10",
          "Andaman & Nicobar Islands/2010-11",
          "Andhra Pradesh/2010-11",
          "Arunachal Pradesh/2010-11",
          "Assam/2010-11",
          "Bihar/2010-11",
          "Chandigarh/2010-11",
          "Chhattisgarh/2010-11",
          "Dadar & Nagar Haveli/2010-11",
          "Daman & Diu/2010-11",
          "Delhi/2010-11",
          "Goa/2010-11",
          "Gujarat/2010-11",
          "Haryana/2010-11",
          "Himachal Pradesh/2010-11",
          "Jammu & Kashmir/2010-11",
          "Jharkhand/2010-11",
          "Karnataka/2010-11",
          "Kerala/2010-11",
          "Lakshadweep/2010-11",
          "Madhya Pradesh/2010-11",
          "Maharashtra/2010-11",
          "Manipur/2010-11",
          "Meghalaya/2010-11",
          "Mizoram/2010-11",
          "Nagaland/2010-11",
          "Orissa/2010-11",
          "Puducherry/2010-11",
          "Punjab/2010-11",
          "Rajasthan/2010-11",
          "Sikkim/2010-11",
          "Tamil Nadu/2010-11",
          "Tripura/2010-11",
          "Uttar Pradesh/2010-11",
          "Uttarakhand/2010-11",
          "West Bengal/2010-11",
          "Andaman & Nicobar Islands/2011-12",
          "Andhra Pradesh/2011-12",
          "Arunachal Pradesh/2011-12",
          "Assam/2011-12",
          "Bihar/2011-12",
          "Chandigarh/2011-12",
          "Chhattisgarh/2011-12",
          "Dadar & Nagar Haveli/2011-12",
          "Daman & Diu/2011-12",
          "Delhi/2011-12",
          "Goa/2011-12",
          "Gujarat/2011-12",
          "Haryana/2011-12",
          "Himachal Pradesh/2011-12",
          "Jammu & Kashmir/2011-12",
          "Jharkhand/2011-12",
          "Karnataka/2011-12",
          "Kerala/2011-12",
          "Lakshadweep/2011-12",
          "Madhya Pradesh/2011-12",
          "Maharashtra/2011-12",
          "Manipur/2011-12",
          "Meghalaya/2011-12",
          "Mizoram/2011-12",
          "Nagaland/2011-12",
          "Orissa/2011-12",
          "Puducherry/2011-12",
          "Punjab/2011-12",
          "Rajasthan/2011-12",
          "Sikkim/2011-12",
          "Tamil Nadu/2011-12",
          "Tripura/2011-12",
          "Uttar Pradesh/2011-12",
          "Uttarakhand/2011-12",
          "West Bengal/2011-12",
          "Andaman & Nicobar Islands",
          "Andhra Pradesh",
          "Arunachal Pradesh",
          "Assam",
          "Bihar",
          "Chandigarh",
          "Chhattisgarh",
          "Dadar & Nagar Haveli",
          "Daman & Diu",
          "Delhi",
          "Goa",
          "Gujarat",
          "Haryana",
          "Himachal Pradesh",
          "Jammu & Kashmir",
          "Jharkhand",
          "Karnataka",
          "Kerala",
          "Lakshadweep",
          "Madhya Pradesh",
          "Maharashtra",
          "Manipur",
          "Meghalaya",
          "Mizoram",
          "Nagaland",
          "Orissa",
          "Puducherry",
          "Punjab",
          "Rajasthan",
          "Sikkim",
          "Tamil Nadu",
          "Tripura",
          "Uttar Pradesh",
          "Uttarakhand",
          "West Bengal"
         ],
         "labels": [
          "2007-08",
          "2007-08",
          "2007-08",
          "2007-08",
          "2007-08",
          "2007-08",
          "2007-08",
          "2007-08",
          "2007-08",
          "2007-08",
          "2007-08",
          "2007-08",
          "2007-08",
          "2007-08",
          "2007-08",
          "2007-08",
          "2007-08",
          "2007-08",
          "2007-08",
          "2007-08",
          "2007-08",
          "2007-08",
          "2007-08",
          "2007-08",
          "2007-08",
          "2007-08",
          "2007-08",
          "2007-08",
          "2007-08",
          "2007-08",
          "2007-08",
          "2007-08",
          "2007-08",
          "2007-08",
          "2007-08",
          "2008-09",
          "2008-09",
          "2008-09",
          "2008-09",
          "2008-09",
          "2008-09",
          "2008-09",
          "2008-09",
          "2008-09",
          "2008-09",
          "2008-09",
          "2008-09",
          "2008-09",
          "2008-09",
          "2008-09",
          "2008-09",
          "2008-09",
          "2008-09",
          "2008-09",
          "2008-09",
          "2008-09",
          "2008-09",
          "2008-09",
          "2008-09",
          "2008-09",
          "2008-09",
          "2008-09",
          "2008-09",
          "2008-09",
          "2008-09",
          "2008-09",
          "2008-09",
          "2008-09",
          "2008-09",
          "2008-09",
          "2009-10",
          "2009-10",
          "2009-10",
          "2009-10",
          "2009-10",
          "2009-10",
          "2009-10",
          "2009-10",
          "2009-10",
          "2009-10",
          "2009-10",
          "2009-10",
          "2009-10",
          "2009-10",
          "2009-10",
          "2009-10",
          "2009-10",
          "2009-10",
          "2009-10",
          "2009-10",
          "2009-10",
          "2009-10",
          "2009-10",
          "2009-10",
          "2009-10",
          "2009-10",
          "2009-10",
          "2009-10",
          "2009-10",
          "2009-10",
          "2009-10",
          "2009-10",
          "2009-10",
          "2009-10",
          "2009-10",
          "2010-11",
          "2010-11",
          "2010-11",
          "2010-11",
          "2010-11",
          "2010-11",
          "2010-11",
          "2010-11",
          "2010-11",
          "2010-11",
          "2010-11",
          "2010-11",
          "2010-11",
          "2010-11",
          "2010-11",
          "2010-11",
          "2010-11",
          "2010-11",
          "2010-11",
          "2010-11",
          "2010-11",
          "2010-11",
          "2010-11",
          "2010-11",
          "2010-11",
          "2010-11",
          "2010-11",
          "2010-11",
          "2010-11",
          "2010-11",
          "2010-11",
          "2010-11",
          "2010-11",
          "2010-11",
          "2010-11",
          "2011-12",
          "2011-12",
          "2011-12",
          "2011-12",
          "2011-12",
          "2011-12",
          "2011-12",
          "2011-12",
          "2011-12",
          "2011-12",
          "2011-12",
          "2011-12",
          "2011-12",
          "2011-12",
          "2011-12",
          "2011-12",
          "2011-12",
          "2011-12",
          "2011-12",
          "2011-12",
          "2011-12",
          "2011-12",
          "2011-12",
          "2011-12",
          "2011-12",
          "2011-12",
          "2011-12",
          "2011-12",
          "2011-12",
          "2011-12",
          "2011-12",
          "2011-12",
          "2011-12",
          "2011-12",
          "2011-12",
          "Andaman & Nicobar Islands",
          "Andhra Pradesh",
          "Arunachal Pradesh",
          "Assam",
          "Bihar",
          "Chandigarh",
          "Chhattisgarh",
          "Dadar & Nagar Haveli",
          "Daman & Diu",
          "Delhi",
          "Goa",
          "Gujarat",
          "Haryana",
          "Himachal Pradesh",
          "Jammu & Kashmir",
          "Jharkhand",
          "Karnataka",
          "Kerala",
          "Lakshadweep",
          "Madhya Pradesh",
          "Maharashtra",
          "Manipur",
          "Meghalaya",
          "Mizoram",
          "Nagaland",
          "Orissa",
          "Puducherry",
          "Punjab",
          "Rajasthan",
          "Sikkim",
          "Tamil Nadu",
          "Tripura",
          "Uttar Pradesh",
          "Uttarakhand",
          "West Bengal"
         ],
         "name": "",
         "parents": [
          "Andaman & Nicobar Islands",
          "Andhra Pradesh",
          "Arunachal Pradesh",
          "Assam",
          "Bihar",
          "Chandigarh",
          "Chhattisgarh",
          "Dadar & Nagar Haveli",
          "Daman & Diu",
          "Delhi",
          "Goa",
          "Gujarat",
          "Haryana",
          "Himachal Pradesh",
          "Jammu & Kashmir",
          "Jharkhand",
          "Karnataka",
          "Kerala",
          "Lakshadweep",
          "Madhya Pradesh",
          "Maharashtra",
          "Manipur",
          "Meghalaya",
          "Mizoram",
          "Nagaland",
          "Orissa",
          "Puducherry",
          "Punjab",
          "Rajasthan",
          "Sikkim",
          "Tamil Nadu",
          "Tripura",
          "Uttar Pradesh",
          "Uttarakhand",
          "West Bengal",
          "Andaman & Nicobar Islands",
          "Andhra Pradesh",
          "Arunachal Pradesh",
          "Assam",
          "Bihar",
          "Chandigarh",
          "Chhattisgarh",
          "Dadar & Nagar Haveli",
          "Daman & Diu",
          "Delhi",
          "Goa",
          "Gujarat",
          "Haryana",
          "Himachal Pradesh",
          "Jammu & Kashmir",
          "Jharkhand",
          "Karnataka",
          "Kerala",
          "Lakshadweep",
          "Madhya Pradesh",
          "Maharashtra",
          "Manipur",
          "Meghalaya",
          "Mizoram",
          "Nagaland",
          "Orissa",
          "Puducherry",
          "Punjab",
          "Rajasthan",
          "Sikkim",
          "Tamil Nadu",
          "Tripura",
          "Uttar Pradesh",
          "Uttarakhand",
          "West Bengal",
          "Andaman & Nicobar Islands",
          "Andhra Pradesh",
          "Arunachal Pradesh",
          "Assam",
          "Bihar",
          "Chandigarh",
          "Chhattisgarh",
          "Dadar & Nagar Haveli",
          "Daman & Diu",
          "Delhi",
          "Goa",
          "Gujarat",
          "Haryana",
          "Himachal Pradesh",
          "Jammu & Kashmir",
          "Jharkhand",
          "Karnataka",
          "Kerala",
          "Lakshadweep",
          "Madhya Pradesh",
          "Maharashtra",
          "Manipur",
          "Meghalaya",
          "Mizoram",
          "Nagaland",
          "Orissa",
          "Puducherry",
          "Punjab",
          "Rajasthan",
          "Sikkim",
          "Tamil Nadu",
          "Tripura",
          "Uttar Pradesh",
          "Uttarakhand",
          "West Bengal",
          "Andaman & Nicobar Islands",
          "Andhra Pradesh",
          "Arunachal Pradesh",
          "Assam",
          "Bihar",
          "Chandigarh",
          "Chhattisgarh",
          "Dadar & Nagar Haveli",
          "Daman & Diu",
          "Delhi",
          "Goa",
          "Gujarat",
          "Haryana",
          "Himachal Pradesh",
          "Jammu & Kashmir",
          "Jharkhand",
          "Karnataka",
          "Kerala",
          "Lakshadweep",
          "Madhya Pradesh",
          "Maharashtra",
          "Manipur",
          "Meghalaya",
          "Mizoram",
          "Nagaland",
          "Orissa",
          "Puducherry",
          "Punjab",
          "Rajasthan",
          "Sikkim",
          "Tamil Nadu",
          "Tripura",
          "Uttar Pradesh",
          "Uttarakhand",
          "West Bengal",
          "Andaman & Nicobar Islands",
          "Andhra Pradesh",
          "Arunachal Pradesh",
          "Assam",
          "Bihar",
          "Chandigarh",
          "Chhattisgarh",
          "Dadar & Nagar Haveli",
          "Daman & Diu",
          "Delhi",
          "Goa",
          "Gujarat",
          "Haryana",
          "Himachal Pradesh",
          "Jammu & Kashmir",
          "Jharkhand",
          "Karnataka",
          "Kerala",
          "Lakshadweep",
          "Madhya Pradesh",
          "Maharashtra",
          "Manipur",
          "Meghalaya",
          "Mizoram",
          "Nagaland",
          "Orissa",
          "Puducherry",
          "Punjab",
          "Rajasthan",
          "Sikkim",
          "Tamil Nadu",
          "Tripura",
          "Uttar Pradesh",
          "Uttarakhand",
          "West Bengal",
          "",
          "",
          "",
          "",
          "",
          "",
          "",
          "",
          "",
          "",
          "",
          "",
          "",
          "",
          "",
          "",
          "",
          "",
          "",
          "",
          "",
          "",
          "",
          "",
          "",
          "",
          "",
          "",
          "",
          "",
          "",
          "",
          "",
          "",
          ""
         ],
         "type": "treemap",
         "values": [
          24,
          8925,
          32,
          752,
          5783,
          47,
          866,
          10,
          1,
          445,
          58,
          7911,
          5442,
          1007,
          1519,
          1442,
          4244,
          2253,
          2,
          6572,
          7210,
          78,
          77,
          17,
          45,
          1625,
          47,
          9282,
          11377,
          42,
          6540,
          91,
          18861,
          1221,
          4087,
          26,
          9570,
          24,
          753,
          5934,
          47,
          908,
          10,
          1,
          450,
          59,
          8386,
          5745,
          1026,
          1565,
          1466,
          4538,
          2441,
          2,
          6855,
          7455,
          79,
          78,
          17,
          53,
          1598,
          46,
          9387,
          11931,
          42,
          6651,
          96,
          19537,
          1230,
          4176,
          24,
          10429,
          26,
          756,
          6124,
          46,
          956,
          10,
          1,
          466,
          59,
          8844,
          6006,
          971,
          1592,
          1463,
          4822,
          2509,
          2,
          7167,
          7679,
          78,
          78,
          11,
          78,
          1651,
          46,
          9389,
          12330,
          44,
          6787,
          100,
          20203,
          1377,
          4300,
          25,
          11203,
          28,
          790,
          6517,
          45,
          1029,
          11,
          1,
          480,
          60,
          9321,
          6267,
          1102,
          1609,
          1555,
          5114,
          2645,
          2,
          7514,
          8044,
          78,
          79,
          11,
          76,
          1671,
          47,
          9423,
          13234,
          43,
          6831,
          104,
          21031,
          1383,
          4471,
          26,
          12088,
          22,
          796,
          6643,
          45,
          1119,
          11,
          1,
          502,
          60,
          9817,
          6661,
          1120,
          1614,
          1745,
          5447,
          2716,
          2,
          8149,
          8469,
          79,
          80,
          14,
          78,
          1721,
          45,
          9551,
          13512,
          45,
          6968,
          111,
          22556,
          1417,
          4672,
          125,
          52215,
          132,
          3847,
          31001,
          230,
          4878,
          52,
          5,
          2343,
          296,
          44279,
          30121,
          5226,
          7899,
          7671,
          24165,
          12564,
          10,
          36257,
          38857,
          392,
          392,
          70,
          330,
          8266,
          231,
          47032,
          62384,
          216,
          33777,
          502,
          102188,
          6628,
          21706
         ]
        }
       ],
       "layout": {
        "legend": {
         "tracegroupgap": 0
        },
        "margin": {
         "t": 60
        },
        "template": {
         "data": {
          "bar": [
           {
            "error_x": {
             "color": "#2a3f5f"
            },
            "error_y": {
             "color": "#2a3f5f"
            },
            "marker": {
             "line": {
              "color": "#E5ECF6",
              "width": 0.5
             },
             "pattern": {
              "fillmode": "overlay",
              "size": 10,
              "solidity": 0.2
             }
            },
            "type": "bar"
           }
          ],
          "barpolar": [
           {
            "marker": {
             "line": {
              "color": "#E5ECF6",
              "width": 0.5
             },
             "pattern": {
              "fillmode": "overlay",
              "size": 10,
              "solidity": 0.2
             }
            },
            "type": "barpolar"
           }
          ],
          "carpet": [
           {
            "aaxis": {
             "endlinecolor": "#2a3f5f",
             "gridcolor": "white",
             "linecolor": "white",
             "minorgridcolor": "white",
             "startlinecolor": "#2a3f5f"
            },
            "baxis": {
             "endlinecolor": "#2a3f5f",
             "gridcolor": "white",
             "linecolor": "white",
             "minorgridcolor": "white",
             "startlinecolor": "#2a3f5f"
            },
            "type": "carpet"
           }
          ],
          "choropleth": [
           {
            "colorbar": {
             "outlinewidth": 0,
             "ticks": ""
            },
            "type": "choropleth"
           }
          ],
          "contour": [
           {
            "colorbar": {
             "outlinewidth": 0,
             "ticks": ""
            },
            "colorscale": [
             [
              0,
              "#0d0887"
             ],
             [
              0.1111111111111111,
              "#46039f"
             ],
             [
              0.2222222222222222,
              "#7201a8"
             ],
             [
              0.3333333333333333,
              "#9c179e"
             ],
             [
              0.4444444444444444,
              "#bd3786"
             ],
             [
              0.5555555555555556,
              "#d8576b"
             ],
             [
              0.6666666666666666,
              "#ed7953"
             ],
             [
              0.7777777777777778,
              "#fb9f3a"
             ],
             [
              0.8888888888888888,
              "#fdca26"
             ],
             [
              1,
              "#f0f921"
             ]
            ],
            "type": "contour"
           }
          ],
          "contourcarpet": [
           {
            "colorbar": {
             "outlinewidth": 0,
             "ticks": ""
            },
            "type": "contourcarpet"
           }
          ],
          "heatmap": [
           {
            "colorbar": {
             "outlinewidth": 0,
             "ticks": ""
            },
            "colorscale": [
             [
              0,
              "#0d0887"
             ],
             [
              0.1111111111111111,
              "#46039f"
             ],
             [
              0.2222222222222222,
              "#7201a8"
             ],
             [
              0.3333333333333333,
              "#9c179e"
             ],
             [
              0.4444444444444444,
              "#bd3786"
             ],
             [
              0.5555555555555556,
              "#d8576b"
             ],
             [
              0.6666666666666666,
              "#ed7953"
             ],
             [
              0.7777777777777778,
              "#fb9f3a"
             ],
             [
              0.8888888888888888,
              "#fdca26"
             ],
             [
              1,
              "#f0f921"
             ]
            ],
            "type": "heatmap"
           }
          ],
          "heatmapgl": [
           {
            "colorbar": {
             "outlinewidth": 0,
             "ticks": ""
            },
            "colorscale": [
             [
              0,
              "#0d0887"
             ],
             [
              0.1111111111111111,
              "#46039f"
             ],
             [
              0.2222222222222222,
              "#7201a8"
             ],
             [
              0.3333333333333333,
              "#9c179e"
             ],
             [
              0.4444444444444444,
              "#bd3786"
             ],
             [
              0.5555555555555556,
              "#d8576b"
             ],
             [
              0.6666666666666666,
              "#ed7953"
             ],
             [
              0.7777777777777778,
              "#fb9f3a"
             ],
             [
              0.8888888888888888,
              "#fdca26"
             ],
             [
              1,
              "#f0f921"
             ]
            ],
            "type": "heatmapgl"
           }
          ],
          "histogram": [
           {
            "marker": {
             "pattern": {
              "fillmode": "overlay",
              "size": 10,
              "solidity": 0.2
             }
            },
            "type": "histogram"
           }
          ],
          "histogram2d": [
           {
            "colorbar": {
             "outlinewidth": 0,
             "ticks": ""
            },
            "colorscale": [
             [
              0,
              "#0d0887"
             ],
             [
              0.1111111111111111,
              "#46039f"
             ],
             [
              0.2222222222222222,
              "#7201a8"
             ],
             [
              0.3333333333333333,
              "#9c179e"
             ],
             [
              0.4444444444444444,
              "#bd3786"
             ],
             [
              0.5555555555555556,
              "#d8576b"
             ],
             [
              0.6666666666666666,
              "#ed7953"
             ],
             [
              0.7777777777777778,
              "#fb9f3a"
             ],
             [
              0.8888888888888888,
              "#fdca26"
             ],
             [
              1,
              "#f0f921"
             ]
            ],
            "type": "histogram2d"
           }
          ],
          "histogram2dcontour": [
           {
            "colorbar": {
             "outlinewidth": 0,
             "ticks": ""
            },
            "colorscale": [
             [
              0,
              "#0d0887"
             ],
             [
              0.1111111111111111,
              "#46039f"
             ],
             [
              0.2222222222222222,
              "#7201a8"
             ],
             [
              0.3333333333333333,
              "#9c179e"
             ],
             [
              0.4444444444444444,
              "#bd3786"
             ],
             [
              0.5555555555555556,
              "#d8576b"
             ],
             [
              0.6666666666666666,
              "#ed7953"
             ],
             [
              0.7777777777777778,
              "#fb9f3a"
             ],
             [
              0.8888888888888888,
              "#fdca26"
             ],
             [
              1,
              "#f0f921"
             ]
            ],
            "type": "histogram2dcontour"
           }
          ],
          "mesh3d": [
           {
            "colorbar": {
             "outlinewidth": 0,
             "ticks": ""
            },
            "type": "mesh3d"
           }
          ],
          "parcoords": [
           {
            "line": {
             "colorbar": {
              "outlinewidth": 0,
              "ticks": ""
             }
            },
            "type": "parcoords"
           }
          ],
          "pie": [
           {
            "automargin": true,
            "type": "pie"
           }
          ],
          "scatter": [
           {
            "fillpattern": {
             "fillmode": "overlay",
             "size": 10,
             "solidity": 0.2
            },
            "type": "scatter"
           }
          ],
          "scatter3d": [
           {
            "line": {
             "colorbar": {
              "outlinewidth": 0,
              "ticks": ""
             }
            },
            "marker": {
             "colorbar": {
              "outlinewidth": 0,
              "ticks": ""
             }
            },
            "type": "scatter3d"
           }
          ],
          "scattercarpet": [
           {
            "marker": {
             "colorbar": {
              "outlinewidth": 0,
              "ticks": ""
             }
            },
            "type": "scattercarpet"
           }
          ],
          "scattergeo": [
           {
            "marker": {
             "colorbar": {
              "outlinewidth": 0,
              "ticks": ""
             }
            },
            "type": "scattergeo"
           }
          ],
          "scattergl": [
           {
            "marker": {
             "colorbar": {
              "outlinewidth": 0,
              "ticks": ""
             }
            },
            "type": "scattergl"
           }
          ],
          "scattermapbox": [
           {
            "marker": {
             "colorbar": {
              "outlinewidth": 0,
              "ticks": ""
             }
            },
            "type": "scattermapbox"
           }
          ],
          "scatterpolar": [
           {
            "marker": {
             "colorbar": {
              "outlinewidth": 0,
              "ticks": ""
             }
            },
            "type": "scatterpolar"
           }
          ],
          "scatterpolargl": [
           {
            "marker": {
             "colorbar": {
              "outlinewidth": 0,
              "ticks": ""
             }
            },
            "type": "scatterpolargl"
           }
          ],
          "scatterternary": [
           {
            "marker": {
             "colorbar": {
              "outlinewidth": 0,
              "ticks": ""
             }
            },
            "type": "scatterternary"
           }
          ],
          "surface": [
           {
            "colorbar": {
             "outlinewidth": 0,
             "ticks": ""
            },
            "colorscale": [
             [
              0,
              "#0d0887"
             ],
             [
              0.1111111111111111,
              "#46039f"
             ],
             [
              0.2222222222222222,
              "#7201a8"
             ],
             [
              0.3333333333333333,
              "#9c179e"
             ],
             [
              0.4444444444444444,
              "#bd3786"
             ],
             [
              0.5555555555555556,
              "#d8576b"
             ],
             [
              0.6666666666666666,
              "#ed7953"
             ],
             [
              0.7777777777777778,
              "#fb9f3a"
             ],
             [
              0.8888888888888888,
              "#fdca26"
             ],
             [
              1,
              "#f0f921"
             ]
            ],
            "type": "surface"
           }
          ],
          "table": [
           {
            "cells": {
             "fill": {
              "color": "#EBF0F8"
             },
             "line": {
              "color": "white"
             }
            },
            "header": {
             "fill": {
              "color": "#C8D4E3"
             },
             "line": {
              "color": "white"
             }
            },
            "type": "table"
           }
          ]
         },
         "layout": {
          "annotationdefaults": {
           "arrowcolor": "#2a3f5f",
           "arrowhead": 0,
           "arrowwidth": 1
          },
          "autotypenumbers": "strict",
          "coloraxis": {
           "colorbar": {
            "outlinewidth": 0,
            "ticks": ""
           }
          },
          "colorscale": {
           "diverging": [
            [
             0,
             "#8e0152"
            ],
            [
             0.1,
             "#c51b7d"
            ],
            [
             0.2,
             "#de77ae"
            ],
            [
             0.3,
             "#f1b6da"
            ],
            [
             0.4,
             "#fde0ef"
            ],
            [
             0.5,
             "#f7f7f7"
            ],
            [
             0.6,
             "#e6f5d0"
            ],
            [
             0.7,
             "#b8e186"
            ],
            [
             0.8,
             "#7fbc41"
            ],
            [
             0.9,
             "#4d9221"
            ],
            [
             1,
             "#276419"
            ]
           ],
           "sequential": [
            [
             0,
             "#0d0887"
            ],
            [
             0.1111111111111111,
             "#46039f"
            ],
            [
             0.2222222222222222,
             "#7201a8"
            ],
            [
             0.3333333333333333,
             "#9c179e"
            ],
            [
             0.4444444444444444,
             "#bd3786"
            ],
            [
             0.5555555555555556,
             "#d8576b"
            ],
            [
             0.6666666666666666,
             "#ed7953"
            ],
            [
             0.7777777777777778,
             "#fb9f3a"
            ],
            [
             0.8888888888888888,
             "#fdca26"
            ],
            [
             1,
             "#f0f921"
            ]
           ],
           "sequentialminus": [
            [
             0,
             "#0d0887"
            ],
            [
             0.1111111111111111,
             "#46039f"
            ],
            [
             0.2222222222222222,
             "#7201a8"
            ],
            [
             0.3333333333333333,
             "#9c179e"
            ],
            [
             0.4444444444444444,
             "#bd3786"
            ],
            [
             0.5555555555555556,
             "#d8576b"
            ],
            [
             0.6666666666666666,
             "#ed7953"
            ],
            [
             0.7777777777777778,
             "#fb9f3a"
            ],
            [
             0.8888888888888888,
             "#fdca26"
            ],
            [
             1,
             "#f0f921"
            ]
           ]
          },
          "colorway": [
           "#636efa",
           "#EF553B",
           "#00cc96",
           "#ab63fa",
           "#FFA15A",
           "#19d3f3",
           "#FF6692",
           "#B6E880",
           "#FF97FF",
           "#FECB52"
          ],
          "font": {
           "color": "#2a3f5f"
          },
          "geo": {
           "bgcolor": "white",
           "lakecolor": "white",
           "landcolor": "#E5ECF6",
           "showlakes": true,
           "showland": true,
           "subunitcolor": "white"
          },
          "hoverlabel": {
           "align": "left"
          },
          "hovermode": "closest",
          "mapbox": {
           "style": "light"
          },
          "paper_bgcolor": "white",
          "plot_bgcolor": "#E5ECF6",
          "polar": {
           "angularaxis": {
            "gridcolor": "white",
            "linecolor": "white",
            "ticks": ""
           },
           "bgcolor": "#E5ECF6",
           "radialaxis": {
            "gridcolor": "white",
            "linecolor": "white",
            "ticks": ""
           }
          },
          "scene": {
           "xaxis": {
            "backgroundcolor": "#E5ECF6",
            "gridcolor": "white",
            "gridwidth": 2,
            "linecolor": "white",
            "showbackground": true,
            "ticks": "",
            "zerolinecolor": "white"
           },
           "yaxis": {
            "backgroundcolor": "#E5ECF6",
            "gridcolor": "white",
            "gridwidth": 2,
            "linecolor": "white",
            "showbackground": true,
            "ticks": "",
            "zerolinecolor": "white"
           },
           "zaxis": {
            "backgroundcolor": "#E5ECF6",
            "gridcolor": "white",
            "gridwidth": 2,
            "linecolor": "white",
            "showbackground": true,
            "ticks": "",
            "zerolinecolor": "white"
           }
          },
          "shapedefaults": {
           "line": {
            "color": "#2a3f5f"
           }
          },
          "ternary": {
           "aaxis": {
            "gridcolor": "white",
            "linecolor": "white",
            "ticks": ""
           },
           "baxis": {
            "gridcolor": "white",
            "linecolor": "white",
            "ticks": ""
           },
           "bgcolor": "#E5ECF6",
           "caxis": {
            "gridcolor": "white",
            "linecolor": "white",
            "ticks": ""
           }
          },
          "title": {
           "x": 0.05
          },
          "xaxis": {
           "automargin": true,
           "gridcolor": "white",
           "linecolor": "white",
           "ticks": "",
           "title": {
            "standoff": 15
           },
           "zerolinecolor": "white",
           "zerolinewidth": 2
          },
          "yaxis": {
           "automargin": true,
           "gridcolor": "white",
           "linecolor": "white",
           "ticks": "",
           "title": {
            "standoff": 15
           },
           "zerolinecolor": "white",
           "zerolinewidth": 2
          }
         }
        }
       }
      }
     },
     "metadata": {},
     "output_type": "display_data"
    }
   ],
   "source": [
    "# Preparing milk production data for treemap visualization\n",
    "milk_production_df = merged_prod_d['Milk'].drop('All India').reset_index()\n",
    "milk_production_df = milk_production_df.melt(id_vars='States/Uts',\n",
    "                       var_name='Year', value_name='Production')\n",
    "\n",
    "# Plotting treemap for milk production\n",
    "fig = px.treemap(milk_production_df, path=['States/Uts', 'Year'],\n",
    "                 values='Production', color_continuous_scale='RdBu')\n",
    "fig.show()"
   ]
  }
 ],
 "metadata": {
  "kernelspec": {
   "display_name": "Python 3",
   "language": "python",
   "name": "python3"
  },
  "language_info": {
   "codemirror_mode": {
    "name": "ipython",
    "version": 3
   },
   "file_extension": ".py",
   "mimetype": "text/x-python",
   "name": "python",
   "nbconvert_exporter": "python",
   "pygments_lexer": "ipython3",
   "version": "3.11.2"
  }
 },
 "nbformat": 4,
 "nbformat_minor": 2
}
