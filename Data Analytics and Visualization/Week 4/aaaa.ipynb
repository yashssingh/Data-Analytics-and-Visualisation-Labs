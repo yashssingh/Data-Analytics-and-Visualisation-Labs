{
 "cells": [
  {
   "cell_type": "code",
   "execution_count": null,
   "metadata": {},
   "outputs": [],
   "source": [
    "import pandas as pd\n",
    "import matplotlib.pyplot as plt\n",
    "\n",
    "# Read Egg Production and Milk Production data\n",
    "\n",
    "# Read Egg Production data\n",
    "df_egg_production = pd.read_csv('/Users/yashsingh/Desktop/Data Analytics and Visualization/Week 4/Egg_Production_2007_2012.csv')  \n",
    "\n",
    "# Read Milk Production data\n",
    "df_milk_production = pd.read_csv('/Users/yashsingh/Desktop/Data Analytics and Visualization/Week 4/Milk_Production_2007_2012.csv')  \n",
    "# Rename columns in Egg Production data\n",
    "df_egg_production.columns = [col.replace('(In lakh nos.)', '').strip() for col in df_egg_production.columns]\n",
    "\n",
    "# Melt the dataframes to reshape them\n",
    "df_egg_production_reshaped = df_egg_production.melt(id_vars=\"States/Uts\", var_name=\"Year\", value_name=\"Egg Production\")\n",
    "df_milk_production_reshaped = df_milk_production.melt(id_vars=\"States/Uts\", var_name=\"Year\", value_name=\"Milk Production\")\n",
    "\n",
    "# Merge the reshaped dataframes\n",
    "merged_df = pd.merge(df_egg_production_reshaped, df_milk_production_reshaped, on=[\"States/Uts\", \"Year\"])\n",
    "\n",
    "# Filter data for selected states and year\n",
    "selected_states = ['Gujarat', 'Kerala', 'Andhra Pradesh', 'Uttar Pradesh', 'Punjab']\n",
    "selected_year = '2007-08'\n",
    "filtered_data = merged_df[(merged_df['States/Uts'].isin(selected_states)) & (merged_df['Year'] == selected_year)]\n",
    "\n",
    "# Plot pie chart for Milk Production\n",
    "plt.pie(filtered_data['Milk Production'], labels=filtered_data['States/Uts'], autopct='%1.1f%%')\n",
    "plt.title(f'Milk Production in {selected_year}')\n",
    "plt.show()\n",
    "\n",
    "# Plot pie chart for Egg Production in each year\n",
    "for year in merged_df['Year'].unique():\n",
    "    plt.pie(merged_df.loc[merged_df['Year'] == year, 'Egg Production'], labels=merged_df['States/Uts'], autopct='%1.1f%%')\n",
    "    plt.title(f'Egg Production in {year}')\n",
    "    plt.show()\n",
    "\n",
    "# Pivot the data for stacked area plot\n",
    "q2data_pivoted = merged_df.pivot(index='Year', columns='States/Uts', values='Egg Production')\n",
    "q2data_pivoted.reset_index(inplace=True)"
   ]
  }
 ],
 "metadata": {
  "language_info": {
   "name": "python"
  }
 },
 "nbformat": 4,
 "nbformat_minor": 2
}
